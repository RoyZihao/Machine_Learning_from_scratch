{
 "cells": [
  {
   "cell_type": "markdown",
   "metadata": {},
   "source": [
    "# SVM and Sentiment Analysis"
   ]
  },
  {
   "cell_type": "code",
   "execution_count": 327,
   "metadata": {},
   "outputs": [],
   "source": [
    "import sys\n",
    "import numpy as np\n",
    "import pandas as pd\n",
    "import matplotlib.pyplot as plt\n",
    "import load\n",
    "import pickle as pk\n",
    "from collections import Counter\n",
    "from collections import defaultdict\n",
    "from util import dotProduct, increment\n",
    "import time\n",
    "import copy"
   ]
  },
  {
   "cell_type": "markdown",
   "metadata": {},
   "source": [
    "## 4. The Data"
   ]
  },
  {
   "cell_type": "code",
   "execution_count": 10,
   "metadata": {},
   "outputs": [],
   "source": [
    "review_label = load.shuffle_data()\n",
    "with open('review_label.pkl', 'wb') as f:\n",
    "    pk.dump(review_label, f)\n",
    "with open('review_label.pkl', 'rb') as f:\n",
    "    data = pk.load(f)"
   ]
  },
  {
   "cell_type": "code",
   "execution_count": 21,
   "metadata": {},
   "outputs": [],
   "source": [
    "review = list(map(lambda x: x[:-1], data))\n",
    "label = list(map(lambda x: x[-1], data))"
   ]
  },
  {
   "cell_type": "code",
   "execution_count": 22,
   "metadata": {},
   "outputs": [],
   "source": [
    "X_train, X_val = review[:1500], review[1500:]\n",
    "y_train, y_val = label[:1500], label[1500:]"
   ]
  },
  {
   "cell_type": "markdown",
   "metadata": {},
   "source": [
    "## 5. Sparse Representations"
   ]
  },
  {
   "cell_type": "code",
   "execution_count": 33,
   "metadata": {},
   "outputs": [],
   "source": [
    "def convert_BOW(list_file):\n",
    "    return list(map(Counter, list_file))"
   ]
  },
  {
   "cell_type": "code",
   "execution_count": 328,
   "metadata": {},
   "outputs": [],
   "source": [
    "X_t, X_v = convert_BOW(X_train), convert_BOW(X_val)"
   ]
  },
  {
   "cell_type": "markdown",
   "metadata": {},
   "source": [
    "## 6. Support Vector Machine via Pegasos"
   ]
  },
  {
   "cell_type": "markdown",
   "metadata": {},
   "source": [
    "### 6.4 Implement Pegasos algorithm"
   ]
  },
  {
   "cell_type": "code",
   "execution_count": 401,
   "metadata": {},
   "outputs": [],
   "source": [
    "class SVM_via_Pegasos:\n",
    "    def __init__(self, reg = 0.01):\n",
    "        self.reg = reg\n",
    "        self.w = defaultdict(int)\n",
    "        self.train_obj = []\n",
    "        self.val_obj = []\n",
    "        \n",
    "    def fit(self, X, y, X_t=None, y_t=None, num_epoch = 10, stop_criterion = 1e-6, verbose = True, use_Validate = False):\n",
    "        '''\n",
    "        X: list of size n. Each entry in X is a dictionary with keys as words and values as counts\n",
    "        y: list of size n. Either 1 or -1\n",
    "        '''\n",
    "        def loss_func(X, y, w):\n",
    "            num_instances = len(X)\n",
    "            loss = 0\n",
    "            for i in range(num_instances):\n",
    "                loss += max(0, 1 - y[i] * dotProduct(X[i], self.w))\n",
    "            loss /= num_instances\n",
    "            loss += self.reg * dotProduct(self.w,self.w) / 2\n",
    "            return loss\n",
    "        start = time.time()\n",
    "        t = 0\n",
    "        n_epoch =0\n",
    "        self.train_obj.append(loss_func(X, y, self.w))\n",
    "        if use_Validate:\n",
    "            self.val_obj.append(loss_func(X_t, y_t, self.w))\n",
    "        \n",
    "        for epoch in range(num_epoch):\n",
    "            if verbose == True:\n",
    "                print('Epoch {}:'.format(epoch+1))\n",
    "            for i in range(len(X)):\n",
    "                t = t + 1\n",
    "                step_size = 1/(t*self.reg)\n",
    "                if y[i]*dotProduct(self.w, X[i]) < 1:\n",
    "                    increment(self.w, -step_size*self.reg, self.w)\n",
    "                    increment(self.w, step_size*y[i], X[i])\n",
    "                else:\n",
    "                    increment(self.w, -step_size*self.reg, self.w)\n",
    "            self.train_obj.append(loss_func(X, y, self.w))\n",
    "            if verbose == True:\n",
    "                print('Training loss: {}'.format(self.train_obj[epoch+1]))\n",
    "            if use_Validate:\n",
    "                self.val_obj.append(loss_func(X_t, y_t, self.w))\n",
    "                if verbose == True:\n",
    "                    print('Validation loss: {}'.format(self.val_obj[epoch+1]))\n",
    "            if abs(self.train_obj[epoch+1] - self.train_obj[epoch]) < stop_criterion:\n",
    "                print('When lambda = {}, the SVM objective function converges in {} epoch(s)'.format(self.reg, epoch+1))\n",
    "                n_epoch = epoch+1\n",
    "                break\n",
    "            if epoch == num_epoch-1:\n",
    "                print(\"{} epochs doesn't make objective function converge\".format(num_epoch))\n",
    "        end = time.time()\n",
    "        if n_epoch ==0:\n",
    "            n_epoch = num_epoch\n",
    "        print(\"Use {} seconds to run {} epoch(s)\".format(end-start, n_epoch))\n",
    "        return self\n",
    "        \n",
    "        "
   ]
  },
  {
   "cell_type": "markdown",
   "metadata": {},
   "source": [
    "### Stochastic Gradient Tricks"
   ]
  },
  {
   "cell_type": "code",
   "execution_count": 407,
   "metadata": {},
   "outputs": [],
   "source": [
    "class SVM_via_Pegasos_Use_Trick:\n",
    "    def __init__(self, reg = 0.01):\n",
    "        self.reg = reg\n",
    "        self.w = defaultdict(int)\n",
    "        self.train_obj = []\n",
    "        self.val_obj = []\n",
    "        self.s = 1\n",
    "        self.w_capital = defaultdict(int)\n",
    "    def fit(self, X, y, X_t=None, y_t=None, num_epoch = 1000, stop_criterion = 1e-3, verbose = True, use_Validate = False):\n",
    "        '''\n",
    "        X: list of size n. Each entry in X is a dictionary with keys as words and values as counts\n",
    "        y: list of size n. Either 1 or -1\n",
    "        '''\n",
    "        def loss_func(X, y, w):\n",
    "            num_instances = len(X)\n",
    "            loss = 0\n",
    "            for i in range(num_instances):\n",
    "                loss += max(0, 1 - y[i] * dotProduct(X[i], self.w))\n",
    "            loss /= num_instances\n",
    "            loss += self.reg * dotProduct(self.w,self.w) / 2\n",
    "            return loss\n",
    "        start = time.time()\n",
    "        t = 1\n",
    "        n_epoch = 0\n",
    "        self.train_obj.append(loss_func(X, y, self.w))\n",
    "        if use_Validate:\n",
    "            self.val_obj.append(loss_func(X_t, y_t, self.w))\n",
    "        \n",
    "        for epoch in range(num_epoch):\n",
    "            if verbose == True:\n",
    "                print('Epoch {}:'.format(epoch+1))\n",
    "            for i in range(len(X)):\n",
    "                t = t + 1\n",
    "                step_size = 1/(t*self.reg)\n",
    "                self.s *= 1-step_size*self.reg\n",
    "                if self.s ==0:\n",
    "                        self.s =1\n",
    "                        self.w_capital=defaultdict(int)\n",
    "                if y[i]*dotProduct(self.w_capital, X[i]) < 1/self.s:\n",
    "                    increment(self.w_capital, step_size*y[i]/self.s, X[i])\n",
    "            self.w = defaultdict(int)       \n",
    "            increment(self.w, self.s, self.w_capital)\n",
    "            self.train_obj.append(loss_func(X, y, self.w))\n",
    "            if verbose == True:\n",
    "                print('Training loss: {}'.format(self.train_obj[epoch+1]))\n",
    "            if use_Validate:\n",
    "                self.val_obj.append(loss_func(X_t, y_t, self.w))\n",
    "                if verbose == True:\n",
    "                    print('Validation loss: {}'.format(self.val_obj[epoch+1]))\n",
    "            if abs(self.train_obj[epoch+1] - self.train_obj[epoch]) < stop_criterion:\n",
    "                print('When lambda = {}, the SVM objective function converges in {} epoch(s)'.format(self.reg, epoch+1))\n",
    "                n_epoch = epoch+1\n",
    "                break\n",
    "            if epoch == num_epoch-1:\n",
    "                print(\"{} epochs doesn't make objective function converge\".format(num_epoch))\n",
    "        end = time.time()\n",
    "        if n_epoch ==0:\n",
    "            n_epoch = num_epoch\n",
    "        print(\"Use {} seconds to run {} epoch(s)\".format(end-start, n_epoch))\n",
    "        return self\n"
   ]
  },
  {
   "cell_type": "markdown",
   "metadata": {},
   "source": [
    "### 6. Implement both algorithms "
   ]
  },
  {
   "cell_type": "code",
   "execution_count": 101,
   "metadata": {},
   "outputs": [],
   "source": [
    "svm_naive = SVM_via_Pegasos()"
   ]
  },
  {
   "cell_type": "code",
   "execution_count": 102,
   "metadata": {},
   "outputs": [
    {
     "name": "stdout",
     "output_type": "stream",
     "text": [
      "Epoch 1:\n",
      "Training loss: 115.80004444442879\n",
      "Epoch 2:\n",
      "Training loss: 61.53508333334063\n",
      "Epoch 3:\n",
      "Training loss: 7.47563703703453\n",
      "Epoch 4:\n",
      "Training loss: 7.2421847222221105\n",
      "Epoch 5:\n",
      "Training loss: 4.128101333333962\n",
      "Epoch 6:\n",
      "Training loss: 3.0027771604935185\n",
      "Epoch 7:\n",
      "Training loss: 2.4988730158723786\n",
      "Epoch 8:\n",
      "Training loss: 2.0518437500000797\n",
      "Epoch 9:\n",
      "Training loss: 1.7815492455429414\n",
      "Epoch 10:\n",
      "Training loss: 1.5029091111107684\n",
      "10 epochs doesn't make objective function converge\n",
      "Use 149.8202223777771 seconds to run 10 epoch(s)\n"
     ]
    },
    {
     "data": {
      "text/plain": [
       "<__main__.SVM_via_Pegasos at 0x118fa6ef0>"
      ]
     },
     "execution_count": 102,
     "metadata": {},
     "output_type": "execute_result"
    }
   ],
   "source": [
    "svm_naive.fit(X_t, y_train)"
   ]
  },
  {
   "cell_type": "code",
   "execution_count": 127,
   "metadata": {},
   "outputs": [],
   "source": [
    "svm_trick = SVM_via_Pegasos_Use_Trick()"
   ]
  },
  {
   "cell_type": "code",
   "execution_count": 128,
   "metadata": {},
   "outputs": [
    {
     "name": "stdout",
     "output_type": "stream",
     "text": [
      "Epoch 1:\n",
      "Training loss: 115.71249962072272\n",
      "Epoch 2:\n",
      "Training loss: 61.51178836770614\n",
      "Epoch 3:\n",
      "Training loss: 7.4727274843711236\n",
      "Epoch 4:\n",
      "Training loss: 7.240296412869909\n",
      "Epoch 5:\n",
      "Training loss: 4.1271289702923815\n",
      "Epoch 6:\n",
      "Training loss: 3.0021604762389917\n",
      "Epoch 7:\n",
      "Training loss: 2.4984360757183532\n",
      "Epoch 8:\n",
      "Training loss: 2.0515225049889376\n",
      "Epoch 9:\n",
      "Training loss: 1.7813033368411109\n",
      "Epoch 10:\n",
      "Training loss: 1.5027212611922933\n",
      "10 epochs doesn't make objective function converge\n",
      "Use 4.052670240402222 seconds to run 10 epoch(s)\n"
     ]
    },
    {
     "data": {
      "text/plain": [
       "<__main__.SVM_via_Pegasos_Use_Trick at 0x118f9c278>"
      ]
     },
     "execution_count": 128,
     "metadata": {},
     "output_type": "execute_result"
    }
   ],
   "source": [
    "svm_trick.fit(X_t, y_train)"
   ]
  },
  {
   "cell_type": "markdown",
   "metadata": {},
   "source": [
    "### 7. 0-1 Loss of the linear perdictor"
   ]
  },
  {
   "cell_type": "code",
   "execution_count": 405,
   "metadata": {},
   "outputs": [],
   "source": [
    "def percent_error(X, y, w):\n",
    "    num_instances = len(X)\n",
    "    loss = 0\n",
    "    for i in range(num_instances):\n",
    "        pred = dotProduct(X[i],w)\n",
    "        if pred*y[i]<0:\n",
    "            loss += 1\n",
    "    loss /= num_instances\n",
    "    return loss"
   ]
  },
  {
   "cell_type": "markdown",
   "metadata": {},
   "source": [
    "### 8. Hyperperameter tuning on $\\lambda$"
   ]
  },
  {
   "cell_type": "code",
   "execution_count": 408,
   "metadata": {},
   "outputs": [
    {
     "name": "stdout",
     "output_type": "stream",
     "text": [
      "When lambda = 0.0001, the SVM objective function converges in 348 epoch(s)\n",
      "Use 129.23016595840454 seconds to run 348 epoch(s)\n",
      "When lambda = 0.001, the SVM objective function converges in 136 epoch(s)\n",
      "Use 50.60575294494629 seconds to run 136 epoch(s)\n",
      "When lambda = 0.01, the SVM objective function converges in 34 epoch(s)\n",
      "Use 12.41371202468872 seconds to run 34 epoch(s)\n",
      "When lambda = 0.1, the SVM objective function converges in 34 epoch(s)\n",
      "Use 13.040605783462524 seconds to run 34 epoch(s)\n",
      "When lambda = 1, the SVM objective function converges in 20 epoch(s)\n",
      "Use 8.637831926345825 seconds to run 20 epoch(s)\n",
      "When lambda = 10.0, the SVM objective function converges in 11 epoch(s)\n",
      "Use 6.655210018157959 seconds to run 11 epoch(s)\n",
      "When lambda = 100.0, the SVM objective function converges in 5 epoch(s)\n",
      "Use 3.0491878986358643 seconds to run 5 epoch(s)\n",
      "When lambda = 1000.0, the SVM objective function converges in 2 epoch(s)\n",
      "Use 1.1486783027648926 seconds to run 2 epoch(s)\n"
     ]
    }
   ],
   "source": [
    "lambda_list = [1e-4, 1e-3, 1e-2,1e-1, 1, 1e1, 1e2, 1e3]\n",
    "loss = []\n",
    "for l in lambda_list:\n",
    "    svm_lambda = SVM_via_Pegasos_Use_Trick(l)\n",
    "    svm_lambda.fit(X_t, y_train, verbose = False)\n",
    "    loss.append(percent_error(X_v, y_val, svm_lambda.w))"
   ]
  },
  {
   "cell_type": "code",
   "execution_count": 409,
   "metadata": {},
   "outputs": [
    {
     "data": {
      "text/plain": [
       "Text(0,0.5,'percentage loss')"
      ]
     },
     "execution_count": 409,
     "metadata": {},
     "output_type": "execute_result"
    },
    {
     "data": {
      "image/png": "[encoded data removed]",
      "text/plain": [
       "<Figure size 432x288 with 1 Axes>"
      ]
     },
     "metadata": {},
     "output_type": "display_data"
    }
   ],
   "source": [
    "plt.plot(np.log10(lambda_list), loss)\n",
    "plt.xlabel('log(reg)')\n",
    "plt.ylabel('percentage loss')"
   ]
  },
  {
   "cell_type": "code",
   "execution_count": 410,
   "metadata": {},
   "outputs": [
    {
     "name": "stdout",
     "output_type": "stream",
     "text": [
      "When lambda = 0.001, the SVM objective function converges in 136 epoch(s)\n",
      "Use 51.82137322425842 seconds to run 136 epoch(s)\n",
      "When lambda = 0.0031622776601683794, the SVM objective function converges in 97 epoch(s)\n",
      "Use 35.73424530029297 seconds to run 97 epoch(s)\n",
      "When lambda = 0.01, the SVM objective function converges in 34 epoch(s)\n",
      "Use 12.584743022918701 seconds to run 34 epoch(s)\n",
      "When lambda = 0.015848931924611134, the SVM objective function converges in 41 epoch(s)\n",
      "Use 15.519246816635132 seconds to run 41 epoch(s)\n",
      "When lambda = 0.03162277660168379, the SVM objective function converges in 62 epoch(s)\n",
      "Use 23.678468227386475 seconds to run 62 epoch(s)\n",
      "When lambda = 0.1, the SVM objective function converges in 34 epoch(s)\n",
      "Use 14.389394283294678 seconds to run 34 epoch(s)\n",
      "When lambda = 0.31622776601683794, the SVM objective function converges in 30 epoch(s)\n",
      "Use 13.343575954437256 seconds to run 30 epoch(s)\n"
     ]
    }
   ],
   "source": [
    "lambda_list_zoom = [1e-3, 10**(-2.5), 1e-2,10**(-1.8), 10**(-1.5), 1e-1, 10**(-0.5)]\n",
    "loss_zoom = []\n",
    "for l in lambda_list_zoom:\n",
    "    svm_lambda = SVM_via_Pegasos_Use_Trick(l)\n",
    "    svm_lambda.fit(X_t, y_train, verbose = False)\n",
    "    loss_zoom.append(percent_error(X_v, y_val, svm_lambda.w))"
   ]
  },
  {
   "cell_type": "code",
   "execution_count": 411,
   "metadata": {},
   "outputs": [
    {
     "data": {
      "text/plain": [
       "Text(0,0.5,'percentage loss')"
      ]
     },
     "execution_count": 411,
     "metadata": {},
     "output_type": "execute_result"
    },
    {
     "data": {
      "image/png": "[encoded data removed]",
      "text/plain": [
       "<Figure size 432x288 with 1 Axes>"
      ]
     },
     "metadata": {},
     "output_type": "display_data"
    }
   ],
   "source": [
    "plt.plot(np.log10(lambda_list_zoom), loss_zoom)\n",
    "plt.xlabel('log(reg)')\n",
    "plt.ylabel('percentage loss')"
   ]
  },
  {
   "cell_type": "markdown",
   "metadata": {},
   "source": [
    "Thus, we pick $\\lambda = 0.1$"
   ]
  },
  {
   "cell_type": "markdown",
   "metadata": {},
   "source": [
    "### 9. Relationship between percentage error and magnitude and "
   ]
  },
  {
   "cell_type": "code",
   "execution_count": 412,
   "metadata": {},
   "outputs": [
    {
     "name": "stdout",
     "output_type": "stream",
     "text": [
      "Epoch 1:\n",
      "Training loss: 17.283848990746943\n",
      "Epoch 2:\n",
      "Training loss: 6.205737738869588\n",
      "Epoch 3:\n",
      "Training loss: 1.0913235731938615\n",
      "Epoch 4:\n",
      "Training loss: 2.7442531486656434\n",
      "Epoch 5:\n",
      "Training loss: 1.9750425639199638\n",
      "Epoch 6:\n",
      "Training loss: 0.5151321356925018\n",
      "Epoch 7:\n",
      "Training loss: 0.9866296386903393\n",
      "Epoch 8:\n",
      "Training loss: 0.8502419519554361\n",
      "Epoch 9:\n",
      "Training loss: 0.39780550279069554\n",
      "Epoch 10:\n",
      "Training loss: 0.36359534671391114\n",
      "Epoch 11:\n",
      "Training loss: 0.33898595692378397\n",
      "Epoch 12:\n",
      "Training loss: 0.3792056419660319\n",
      "Epoch 13:\n",
      "Training loss: 0.8069467998524115\n",
      "Epoch 14:\n",
      "Training loss: 0.35953119153841095\n",
      "Epoch 15:\n",
      "Training loss: 0.5529132858295734\n",
      "Epoch 16:\n",
      "Training loss: 0.4576886717130844\n",
      "Epoch 17:\n",
      "Training loss: 0.39853947914185395\n",
      "Epoch 18:\n",
      "Training loss: 0.4143187825141209\n",
      "Epoch 19:\n",
      "Training loss: 0.25823871000377624\n",
      "Epoch 20:\n",
      "Training loss: 0.37295594597735315\n",
      "Epoch 21:\n",
      "Training loss: 0.2452803783927395\n",
      "Epoch 22:\n",
      "Training loss: 0.2375209782594899\n",
      "Epoch 23:\n",
      "Training loss: 0.23471145443246855\n",
      "Epoch 24:\n",
      "Training loss: 0.2535125521291335\n",
      "Epoch 25:\n",
      "Training loss: 0.32052118402611995\n",
      "Epoch 26:\n",
      "Training loss: 0.23552525597398144\n",
      "Epoch 27:\n",
      "Training loss: 0.2679757368072453\n",
      "Epoch 28:\n",
      "Training loss: 0.33159392594858844\n",
      "Epoch 29:\n",
      "Training loss: 0.294367053850093\n",
      "Epoch 30:\n",
      "Training loss: 0.23506975868481042\n",
      "Epoch 31:\n",
      "Training loss: 0.21435393342236309\n",
      "Epoch 32:\n",
      "Training loss: 0.27465586476229464\n",
      "Epoch 33:\n",
      "Training loss: 0.20817596190061072\n",
      "Epoch 34:\n",
      "Training loss: 0.20802916486470108\n",
      "When lambda = 0.1, the SVM objective function converges in 34 epoch(s)\n",
      "Use 13.60443902015686 seconds to run 34 epoch(s)\n"
     ]
    },
    {
     "data": {
      "text/plain": [
       "<__main__.SVM_via_Pegasos_Use_Trick at 0x1265da080>"
      ]
     },
     "execution_count": 412,
     "metadata": {},
     "output_type": "execute_result"
    }
   ],
   "source": [
    "svm = SVM_via_Pegasos_Use_Trick(0.1)\n",
    "svm.fit(X_t, y_train)"
   ]
  },
  {
   "cell_type": "code",
   "execution_count": 414,
   "metadata": {},
   "outputs": [],
   "source": [
    "score_wrongClass = []\n",
    "for i in range(len(X_v)):\n",
    "    flag = 0\n",
    "    pred = dotProduct(X_v[i], svm.w)\n",
    "    if pred*y_val[i]<0:\n",
    "        # Misclassfied\n",
    "        flag = 1\n",
    "    score_wrongClass.append((abs(pred), flag))"
   ]
  },
  {
   "cell_type": "code",
   "execution_count": 415,
   "metadata": {},
   "outputs": [
    {
     "name": "stdout",
     "output_type": "stream",
     "text": [
      "For fold 1, the percentage loss is 0.41.\n",
      "For fold 2, the percentage loss is 0.25.\n",
      "For fold 3, the percentage loss is 0.16.\n",
      "For fold 4, the percentage loss is 0.03.\n",
      "For fold 5, the percentage loss is 0.03.\n"
     ]
    }
   ],
   "source": [
    "score_wrongClass_sorted = sorted(score_wrongClass)\n",
    "fold = 5\n",
    "n = len(X_v)/fold\n",
    "for i in range(fold):\n",
    "    percent_error = sum(x[1] for x in score_wrongClass_sorted[i*100:(i+1)*100])/n\n",
    "    print('For fold {}, the percentage loss is {}.'.format(i+1, percent_error))"
   ]
  },
  {
   "cell_type": "markdown",
   "metadata": {},
   "source": [
    "### 10. Find when we have $y_iw^Tx_i = 1$ where our objective is not differentiable"
   ]
  },
  {
   "cell_type": "code",
   "execution_count": 426,
   "metadata": {},
   "outputs": [],
   "source": [
    "class SVM_via_Pegasos_Use_Trick_check_diffble:\n",
    "    def __init__(self, reg = 0.01):\n",
    "        self.reg = reg\n",
    "        self.w = defaultdict(int)\n",
    "        self.train_obj = []\n",
    "        self.val_obj = []\n",
    "        self.s = 1\n",
    "        self.w_capital = defaultdict(int)\n",
    "    def fit(self, X, y, X_t=None, y_t=None, num_epoch = 1000, stop_criterion = 1e-3, verbose = True, use_Validate = False):\n",
    "        '''\n",
    "        X: list of size n. Each entry in X is a dictionary with keys as words and values as counts\n",
    "        y: list of size n. Either 1 or -1\n",
    "        '''\n",
    "        def loss_func(X, y, w):\n",
    "            num_instances = len(X)\n",
    "            loss = 0\n",
    "            for i in range(num_instances):\n",
    "                loss += max(0, 1 - y[i] * dotProduct(X[i], self.w))\n",
    "            loss /= num_instances\n",
    "            loss += self.reg * dotProduct(self.w,self.w) / 2\n",
    "            return loss\n",
    "        start = time.time()\n",
    "        n_epoch = 0\n",
    "        t = 1\n",
    "        self.train_obj.append(loss_func(X, y, self.w))\n",
    "        if use_Validate:\n",
    "            self.val_obj.append(loss_func(X_t, y_t, self.w))\n",
    "        \n",
    "        bound_hit = 0\n",
    "        for epoch in range(num_epoch):\n",
    "            if verbose == True:\n",
    "                print('Epoch {}:'.format(epoch+1))\n",
    "            for i in range(len(X)):\n",
    "                t = t + 1\n",
    "                step_size = 1/(t*self.reg)\n",
    "                self.s *= 1-step_size*self.reg\n",
    "                if self.s ==0:\n",
    "                        self.s =1\n",
    "                        self.w_capital=defaultdict(int)\n",
    "                if y[i]*dotProduct(self.w_capital, X[i]) < 1/self.s:\n",
    "                    increment(self.w_capital, step_size*y[i]/self.s, X[i])\n",
    "                if (y[i]*dotProduct(self.w_capital, X[i])> (1-0.0001)/self.s) and (y[i]*dotProduct(self.w_capital, X[i])<(1+0.0001)/self.s):\n",
    "                    bound_hit += 1\n",
    "            self.w = defaultdict(int)       \n",
    "            increment(self.w, self.s, self.w_capital)\n",
    "            self.train_obj.append(loss_func(X, y, self.w))\n",
    "            if verbose == True:\n",
    "                print('Training loss: {}'.format(self.train_obj[epoch+1]))\n",
    "            if use_Validate:\n",
    "                self.val_obj.append(loss_func(X_t, y_t, self.w))\n",
    "                if verbose == True:\n",
    "                    print('Validation loss: {}'.format(self.val_obj[epoch+1]))\n",
    "            if abs(self.train_obj[epoch+1] - self.train_obj[epoch]) < stop_criterion:\n",
    "                print('When lambda = {}, the SVM objective function converges in {} epoch(s)'.format(self.reg, epoch+1))\n",
    "                n_epoch = epoch+1\n",
    "                break\n",
    "            if epoch == num_epoch-1:\n",
    "                print(\"{} epochs doesn't make objective function converge\".format(num_epoch))\n",
    "        if bound_hit != 0:\n",
    "            print('We find {} time(s) that the objective function is not differentiable'.format(bound_hit))\n",
    "        if n_epoch == 0:\n",
    "            n_epoch = num_epoch\n",
    "        end = time.time()\n",
    "        print(\"Use {} seconds to run {} epoch(s)\".format(end-start, n_epoch))\n",
    "        return self"
   ]
  },
  {
   "cell_type": "code",
   "execution_count": 424,
   "metadata": {},
   "outputs": [
    {
     "name": "stdout",
     "output_type": "stream",
     "text": [
      "When lambda = 0.1, the SVM objective function converges in 34 epoch(s)\n",
      "We find 2 time(s) that the objective function is not differentiable\n",
      "Use 22.47211003303528 seconds to run 34 epoch(s)\n"
     ]
    },
    {
     "data": {
      "text/plain": [
       "<__main__.SVM_via_Pegasos_Use_Trick_check_diffble at 0x12c30a7f0>"
      ]
     },
     "execution_count": 424,
     "metadata": {},
     "output_type": "execute_result"
    }
   ],
   "source": [
    "svm_check_diffble = SVM_via_Pegasos_Use_Trick_check_diffble(0.1)\n",
    "svm_check_diffble.fit(X_t, y_train, verbose=False)"
   ]
  },
  {
   "cell_type": "markdown",
   "metadata": {},
   "source": [
    "## 7. Error Analysis"
   ]
  },
  {
   "cell_type": "code",
   "execution_count": 427,
   "metadata": {},
   "outputs": [],
   "source": [
    "wrong_pred = []\n",
    "prediction = []\n",
    "real_y = []\n",
    "index = []\n",
    "for i in range(len(X_t)):\n",
    "    pred = dotProduct(X_t[i], svm.w)\n",
    "    if pred*y_train[i]<0:\n",
    "        # Misclassfied\n",
    "        wrong_pred.append(X_t[i])\n",
    "        prediction.append(pred)\n",
    "        real_y.append(y_train[i])\n",
    "        index.append(i)\n",
    "    if len(wrong_pred)==2:\n",
    "        break"
   ]
  },
  {
   "cell_type": "code",
   "execution_count": 428,
   "metadata": {},
   "outputs": [],
   "source": [
    "wrong_pred_0 = dict(wrong_pred[0])\n",
    "feature_importance = []\n",
    "for key in wrong_pred_0.keys():\n",
    "    wx = wrong_pred_0[key]*svm.w[key]\n",
    "    feature_importance.append((key, wrong_pred_0[key],svm.w[key],wx))"
   ]
  },
  {
   "cell_type": "code",
   "execution_count": 429,
   "metadata": {},
   "outputs": [],
   "source": [
    "important_10_features_0 = sorted(feature_importance,key=lambda tup: abs(tup[3]), reverse=True)[:10]"
   ]
  },
  {
   "cell_type": "code",
   "execution_count": 430,
   "metadata": {},
   "outputs": [
    {
     "data": {
      "text/html": [
       "<div>\n",
       "<style scoped>\n",
       "    .dataframe tbody tr th:only-of-type {\n",
       "        vertical-align: middle;\n",
       "    }\n",
       "\n",
       "    .dataframe tbody tr th {\n",
       "        vertical-align: top;\n",
       "    }\n",
       "\n",
       "    .dataframe thead th {\n",
       "        text-align: right;\n",
       "    }\n",
       "</style>\n",
       "<table border=\"1\" class=\"dataframe\">\n",
       "  <thead>\n",
       "    <tr style=\"text-align: right;\">\n",
       "      <th></th>\n",
       "      <th>word</th>\n",
       "      <th>count</th>\n",
       "      <th>weight</th>\n",
       "      <th>prediction</th>\n",
       "    </tr>\n",
       "  </thead>\n",
       "  <tbody>\n",
       "    <tr>\n",
       "      <th>0</th>\n",
       "      <td>and</td>\n",
       "      <td>21</td>\n",
       "      <td>0.050195</td>\n",
       "      <td>1.054097</td>\n",
       "    </tr>\n",
       "    <tr>\n",
       "      <th>1</th>\n",
       "      <td>the</td>\n",
       "      <td>47</td>\n",
       "      <td>0.014313</td>\n",
       "      <td>0.672732</td>\n",
       "    </tr>\n",
       "    <tr>\n",
       "      <th>2</th>\n",
       "      <td>to</td>\n",
       "      <td>20</td>\n",
       "      <td>-0.027647</td>\n",
       "      <td>-0.552930</td>\n",
       "    </tr>\n",
       "    <tr>\n",
       "      <th>3</th>\n",
       "      <td>his</td>\n",
       "      <td>17</td>\n",
       "      <td>-0.020000</td>\n",
       "      <td>-0.339993</td>\n",
       "    </tr>\n",
       "    <tr>\n",
       "      <th>4</th>\n",
       "      <td>this</td>\n",
       "      <td>5</td>\n",
       "      <td>-0.063136</td>\n",
       "      <td>-0.315680</td>\n",
       "    </tr>\n",
       "    <tr>\n",
       "      <th>5</th>\n",
       "      <td>by</td>\n",
       "      <td>7</td>\n",
       "      <td>0.033529</td>\n",
       "      <td>0.234701</td>\n",
       "    </tr>\n",
       "    <tr>\n",
       "      <th>6</th>\n",
       "      <td>he</td>\n",
       "      <td>5</td>\n",
       "      <td>0.046470</td>\n",
       "      <td>0.232348</td>\n",
       "    </tr>\n",
       "    <tr>\n",
       "      <th>7</th>\n",
       "      <td>i</td>\n",
       "      <td>13</td>\n",
       "      <td>0.017843</td>\n",
       "      <td>0.231956</td>\n",
       "    </tr>\n",
       "    <tr>\n",
       "      <th>8</th>\n",
       "      <td>most</td>\n",
       "      <td>3</td>\n",
       "      <td>0.073920</td>\n",
       "      <td>0.221760</td>\n",
       "    </tr>\n",
       "    <tr>\n",
       "      <th>9</th>\n",
       "      <td>great</td>\n",
       "      <td>2</td>\n",
       "      <td>0.108429</td>\n",
       "      <td>0.216858</td>\n",
       "    </tr>\n",
       "  </tbody>\n",
       "</table>\n",
       "</div>"
      ],
      "text/plain": [
       "    word  count    weight  prediction\n",
       "0    and     21  0.050195    1.054097\n",
       "1    the     47  0.014313    0.672732\n",
       "2     to     20 -0.027647   -0.552930\n",
       "3    his     17 -0.020000   -0.339993\n",
       "4   this      5 -0.063136   -0.315680\n",
       "5     by      7  0.033529    0.234701\n",
       "6     he      5  0.046470    0.232348\n",
       "7      i     13  0.017843    0.231956\n",
       "8   most      3  0.073920    0.221760\n",
       "9  great      2  0.108429    0.216858"
      ]
     },
     "execution_count": 430,
     "metadata": {},
     "output_type": "execute_result"
    }
   ],
   "source": [
    "pd.DataFrame(important_10_features_0, columns=('word','count','weight','prediction'))"
   ]
  },
  {
   "cell_type": "code",
   "execution_count": 431,
   "metadata": {},
   "outputs": [],
   "source": [
    "wrong_pred_1 = dict(wrong_pred[1])\n",
    "feature_importance_1 = []\n",
    "for key in wrong_pred_1.keys():\n",
    "    wx = wrong_pred_1[key]*svm.w[key]\n",
    "    feature_importance_1.append((key, wrong_pred_1[key],svm.w[key],wx))"
   ]
  },
  {
   "cell_type": "code",
   "execution_count": 434,
   "metadata": {},
   "outputs": [],
   "source": [
    "important_10_features_1 = sorted(feature_importance_1,key=lambda tup: abs(tup[3]), reverse=True)[:10]"
   ]
  },
  {
   "cell_type": "code",
   "execution_count": 435,
   "metadata": {},
   "outputs": [
    {
     "data": {
      "text/html": [
       "<div>\n",
       "<style scoped>\n",
       "    .dataframe tbody tr th:only-of-type {\n",
       "        vertical-align: middle;\n",
       "    }\n",
       "\n",
       "    .dataframe tbody tr th {\n",
       "        vertical-align: top;\n",
       "    }\n",
       "\n",
       "    .dataframe thead th {\n",
       "        text-align: right;\n",
       "    }\n",
       "</style>\n",
       "<table border=\"1\" class=\"dataframe\">\n",
       "  <thead>\n",
       "    <tr style=\"text-align: right;\">\n",
       "      <th></th>\n",
       "      <th>word</th>\n",
       "      <th>count</th>\n",
       "      <th>weight</th>\n",
       "      <th>prediction</th>\n",
       "    </tr>\n",
       "  </thead>\n",
       "  <tbody>\n",
       "    <tr>\n",
       "      <th>0</th>\n",
       "      <td>to</td>\n",
       "      <td>15</td>\n",
       "      <td>-0.027647</td>\n",
       "      <td>-0.414698</td>\n",
       "    </tr>\n",
       "    <tr>\n",
       "      <th>1</th>\n",
       "      <td>this</td>\n",
       "      <td>6</td>\n",
       "      <td>-0.063136</td>\n",
       "      <td>-0.378816</td>\n",
       "    </tr>\n",
       "    <tr>\n",
       "      <th>2</th>\n",
       "      <td>and</td>\n",
       "      <td>6</td>\n",
       "      <td>0.050195</td>\n",
       "      <td>0.301171</td>\n",
       "    </tr>\n",
       "    <tr>\n",
       "      <th>3</th>\n",
       "      <td>the</td>\n",
       "      <td>19</td>\n",
       "      <td>0.014313</td>\n",
       "      <td>0.271955</td>\n",
       "    </tr>\n",
       "    <tr>\n",
       "      <th>4</th>\n",
       "      <td>bad</td>\n",
       "      <td>1</td>\n",
       "      <td>-0.193330</td>\n",
       "      <td>-0.193330</td>\n",
       "    </tr>\n",
       "    <tr>\n",
       "      <th>5</th>\n",
       "      <td>poor</td>\n",
       "      <td>2</td>\n",
       "      <td>-0.087841</td>\n",
       "      <td>-0.175683</td>\n",
       "    </tr>\n",
       "    <tr>\n",
       "      <th>6</th>\n",
       "      <td>ghosts</td>\n",
       "      <td>4</td>\n",
       "      <td>0.037450</td>\n",
       "      <td>0.149801</td>\n",
       "    </tr>\n",
       "    <tr>\n",
       "      <th>7</th>\n",
       "      <td>most</td>\n",
       "      <td>2</td>\n",
       "      <td>0.073920</td>\n",
       "      <td>0.147840</td>\n",
       "    </tr>\n",
       "    <tr>\n",
       "      <th>8</th>\n",
       "      <td>acting</td>\n",
       "      <td>2</td>\n",
       "      <td>-0.072940</td>\n",
       "      <td>-0.145879</td>\n",
       "    </tr>\n",
       "    <tr>\n",
       "      <th>9</th>\n",
       "      <td>an</td>\n",
       "      <td>3</td>\n",
       "      <td>-0.046862</td>\n",
       "      <td>-0.140585</td>\n",
       "    </tr>\n",
       "  </tbody>\n",
       "</table>\n",
       "</div>"
      ],
      "text/plain": [
       "     word  count    weight  prediction\n",
       "0      to     15 -0.027647   -0.414698\n",
       "1    this      6 -0.063136   -0.378816\n",
       "2     and      6  0.050195    0.301171\n",
       "3     the     19  0.014313    0.271955\n",
       "4     bad      1 -0.193330   -0.193330\n",
       "5    poor      2 -0.087841   -0.175683\n",
       "6  ghosts      4  0.037450    0.149801\n",
       "7    most      2  0.073920    0.147840\n",
       "8  acting      2 -0.072940   -0.145879\n",
       "9      an      3 -0.046862   -0.140585"
      ]
     },
     "execution_count": 435,
     "metadata": {},
     "output_type": "execute_result"
    }
   ],
   "source": [
    "pd.DataFrame(important_10_features_1, columns=('word','count','weight','prediction'))"
   ]
  },
  {
   "cell_type": "markdown",
   "metadata": {},
   "source": [
    "## 8. Features"
   ]
  },
  {
   "cell_type": "markdown",
   "metadata": {},
   "source": [
    "### 1. Use TF-IDF for word count since there are a lot common words in our documents"
   ]
  },
  {
   "cell_type": "code",
   "execution_count": 294,
   "metadata": {},
   "outputs": [],
   "source": [
    "p_original = sum(x[1] for x in score_wrongClass)/len(X_val)"
   ]
  },
  {
   "cell_type": "markdown",
   "metadata": {},
   "source": [
    "We got misclassification rate 0.176 on validation set with word count."
   ]
  },
  {
   "cell_type": "code",
   "execution_count": 365,
   "metadata": {},
   "outputs": [],
   "source": [
    "def BOW_TFIDF(X):\n",
    "    X_copy = copy.deepcopy(X)\n",
    "    n = len(X)\n",
    "    # Make a list of all keys across all documents\n",
    "    key_list = set().union(*(item.keys() for item in X_copy))\n",
    "    # TF (using X_copy as a deep copy)\n",
    "    for entry in X_copy:\n",
    "        total_num_words = len(entry)\n",
    "        for key in entry:\n",
    "            entry[key] /= total_num_words\n",
    "    # IDF\n",
    "    idf ={}\n",
    "    for key in key_list:\n",
    "        num = 0\n",
    "        for entry in X:\n",
    "            if entry[key] != 0:\n",
    "                num+=1\n",
    "        idf[key] = np.log10(n/(1+num))  # In case some word in val set not in train set   \n",
    "        \n",
    "    # TF*IDF\n",
    "    for entry in X_copy:\n",
    "        for key in entry:\n",
    "            entry[key] *= idf[key]\n",
    "    return X_copy"
   ]
  },
  {
   "cell_type": "code",
   "execution_count": 366,
   "metadata": {},
   "outputs": [],
   "source": [
    "X_t_tfidf = BOW_TFIDF(X_t)"
   ]
  },
  {
   "cell_type": "code",
   "execution_count": 378,
   "metadata": {},
   "outputs": [],
   "source": [
    "X_v_tfidf = BOW_TFIDF(X_v)"
   ]
  },
  {
   "cell_type": "code",
   "execution_count": 389,
   "metadata": {},
   "outputs": [
    {
     "name": "stdout",
     "output_type": "stream",
     "text": [
      "Epoch 1:\n",
      "Training loss: 0.9999147732147741\n",
      "Epoch 2:\n",
      "Training loss: 0.9999147731864112\n",
      "Epoch 3:\n",
      "Training loss: 0.9999147731811538\n",
      "Epoch 4:\n",
      "Training loss: 0.9999147731793144\n",
      "Epoch 5:\n",
      "Training loss: 0.9999147731784601\n",
      "Epoch 6:\n",
      "Training loss: 0.999914773177999\n",
      "Epoch 7:\n",
      "Training loss: 0.9999147731777204\n",
      "Epoch 8:\n",
      "Training loss: 0.9999147731775375\n",
      "Epoch 9:\n",
      "Training loss: 0.9999147731774138\n",
      "Epoch 10:\n",
      "Training loss: 0.9999147731773237\n",
      "Epoch 11:\n",
      "Training loss: 0.9999147731772585\n",
      "Epoch 12:\n",
      "Training loss: 0.9999147731772098\n",
      "Epoch 13:\n",
      "Training loss: 0.9999147731771696\n",
      "Epoch 14:\n",
      "Training loss: 0.9999147731771401\n",
      "Epoch 15:\n",
      "Training loss: 0.9999147731771145\n",
      "Epoch 16:\n",
      "Training loss: 0.9999147731770941\n",
      "Epoch 17:\n",
      "Training loss: 0.999914773177078\n",
      "Epoch 18:\n",
      "Training loss: 0.9999147731770636\n",
      "Epoch 19:\n",
      "Training loss: 0.9999147731770502\n",
      "Epoch 20:\n",
      "Training loss: 0.9999147731770406\n",
      "Epoch 21:\n",
      "Training loss: 0.999914773177032\n",
      "Epoch 22:\n",
      "Training loss: 0.9999147731770253\n",
      "Epoch 23:\n",
      "Training loss: 0.9999147731770197\n",
      "Epoch 24:\n",
      "Training loss: 0.9999147731770117\n",
      "Epoch 25:\n",
      "Training loss: 0.9999147731770072\n",
      "Epoch 26:\n",
      "Training loss: 0.9999147731770038\n",
      "Epoch 27:\n",
      "Training loss: 0.9999147731769984\n",
      "Epoch 28:\n",
      "Training loss: 0.999914773176995\n",
      "Epoch 29:\n",
      "Training loss: 0.9999147731769913\n",
      "Epoch 30:\n",
      "Training loss: 0.9999147731769887\n",
      "Epoch 31:\n",
      "Training loss: 0.9999147731769847\n",
      "Epoch 32:\n",
      "Training loss: 0.9999147731769852\n",
      "When lambda = 0.1, the SVM objective function converges in 32 epoch(s)\n",
      "Use 22.114714860916138 seconds to run 32 epoch(s)\n"
     ]
    },
    {
     "data": {
      "text/plain": [
       "<__main__.SVM_via_Pegasos_Use_Trick at 0x1265da5f8>"
      ]
     },
     "execution_count": 389,
     "metadata": {},
     "output_type": "execute_result"
    }
   ],
   "source": [
    "svm_tfidf = SVM_via_Pegasos_Use_Trick(0.1)\n",
    "svm_tfidf.fit(X_t_tfidf, y_train, stop_criterion=1e-15)"
   ]
  },
  {
   "cell_type": "code",
   "execution_count": 390,
   "metadata": {},
   "outputs": [],
   "source": [
    "score_wrongClass_tfidf = []\n",
    "for i in range(len(X_v_tfidf)):\n",
    "    flag = 0\n",
    "    pred = dotProduct(X_v_tfidf[i], svm_tfidf.w)\n",
    "    if pred*y_val[i]<0:\n",
    "        # Misclassfied\n",
    "        flag = 1\n",
    "    score_wrongClass_tfidf.append((abs(pred), flag))"
   ]
  },
  {
   "cell_type": "code",
   "execution_count": 391,
   "metadata": {},
   "outputs": [
    {
     "data": {
      "text/plain": [
       "0.218"
      ]
     },
     "execution_count": 391,
     "metadata": {},
     "output_type": "execute_result"
    }
   ],
   "source": [
    "sum(x[1] for x in score_wrongClass_tfidf)/len(X_val)"
   ]
  },
  {
   "cell_type": "markdown",
   "metadata": {},
   "source": [
    "We see there is an increase in the misclassification rate"
   ]
  },
  {
   "cell_type": "code",
   "execution_count": 399,
   "metadata": {},
   "outputs": [
    {
     "data": {
      "text/plain": [
       "2.2745876104218743"
      ]
     },
     "execution_count": 399,
     "metadata": {},
     "output_type": "execute_result"
    }
   ],
   "source": [
    "(0.218-0.176)/np.sqrt(0.218*(1-0.218)/500)"
   ]
  },
  {
   "cell_type": "markdown",
   "metadata": {},
   "source": [
    "2.27>1.64, so worse in statistical significant sense"
   ]
  },
  {
   "cell_type": "code",
   "execution_count": null,
   "metadata": {},
   "outputs": [],
   "source": []
  }
 ],
 "metadata": {
  "kernelspec": {
   "display_name": "Python 3",
   "language": "python",
   "name": "python3"
  },
  "language_info": {
   "codemirror_mode": {
    "name": "ipython",
    "version": 3
   },
   "file_extension": ".py",
   "mimetype": "text/x-python",
   "name": "python",
   "nbconvert_exporter": "python",
   "pygments_lexer": "ipython3",
   "version": "3.6.5"
  },
  "toc": {
   "base_numbering": 1,
   "nav_menu": {},
   "number_sections": false,
   "sideBar": true,
   "skip_h1_title": false,
   "title_cell": "Table of Contents",
   "title_sidebar": "Contents",
   "toc_cell": false,
   "toc_position": {
    "height": "calc(100% - 180px)",
    "left": "10px",
    "top": "150px",
    "width": "165px"
   },
   "toc_section_display": true,
   "toc_window_display": true
  }
 },
 "nbformat": 4,
 "nbformat_minor": 2
}
